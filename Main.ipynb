{
 "cells": [
  {
   "cell_type": "code",
   "execution_count": 2,
   "metadata": {
    "collapsed": true
   },
   "outputs": [
    {
     "name": "stdout",
     "output_type": "stream",
     "text": [
      "玛5\n",
      "0 :  D:\\李晨星文件夹\\项目文件\\塔里木程小桂\\data\\完井报告\\玛5\\玛5_试油总结_1998-07-17.doc\n",
      "1 :  D:\\李晨星文件夹\\项目文件\\塔里木程小桂\\data\\完井报告\\玛5\\玛5_试油资料评价报告_S3+5酸1_2011-4-30.doc\n",
      "2 :  D:\\李晨星文件夹\\项目文件\\塔里木程小桂\\data\\完井报告\\玛5\\玛5完井.docx\n",
      "3 :  D:\\李晨星文件夹\\项目文件\\塔里木程小桂\\data\\完井报告\\玛5\\玛5完井地质总结报告.doc\n",
      "4 :  D:\\李晨星文件夹\\项目文件\\塔里木程小桂\\data\\完井报告\\玛5\\玛5完井地质总结报告.docx\n",
      "5 :  D:\\李晨星文件夹\\项目文件\\塔里木程小桂\\data\\完井报告\\玛5\\玛5试油总结.docx\n",
      "6 :  D:\\李晨星文件夹\\项目文件\\塔里木程小桂\\data\\完井报告\\玛5\\玛5试油总结.f(x,y)\n",
      "7 :  D:\\李晨星文件夹\\项目文件\\塔里木程小桂\\data\\完井报告\\玛5\\玛5钻井液.docx\n",
      "8 :  D:\\李晨星文件夹\\项目文件\\塔里木程小桂\\data\\温压水数据\\连续测温数据\\玛5 2014.9.18.xlsx\n",
      "9 :  D:\\李晨星文件夹\\项目文件\\塔里木程小桂\\data\\温压水数据\\连续测温数据\\玛5井静温静压梯度测试成果报告-PPS-5129（2020.05.29大港广茂）.doc\n",
      "D:\\李晨星文件夹\\项目文件\\塔里木程小桂\\data\\完井报告\\玛5\\玛5完井地质总结报告.doc\n",
      "===============检查信息===========\n",
      "坐标存在\n",
      "地层分层存在\n",
      "=============\n",
      "X 4285834.4\n",
      "Y 14445558.1\n",
      "Lat T\n",
      "Lon T\n",
      "Hd 1345.8m\n",
      "Hb 1352.5m\n",
      "Hbb 6.7m\n",
      "===============检查信息===========\n",
      "坐标存在\n",
      "地层分层存在\n",
      "==========find layer================\n",
      "项目\n",
      "333333333333333333333333\n",
      "钻时  点  2586  每1米读1点，数据齐全，准确可靠。  按设计要求综合录井仪连续测量。  \n",
      "岩屑  包  2241  数量足，代表性普遍较好，岩屑与电性符合率较高。井段1962.00～1975.0m因堵漏较差。  98.00～620.00m每2m捞1次，装2袋。\n",
      "620.00～2600.00m每1m捞1次，装2袋。  \n",
      "岩芯  米  94.15  取芯卡准率100％，总收获率96.2％。  按设计及上级指示取芯。  \n",
      "气测  点  2586  连续测量，每米读一点，数据齐全、准确。  井口开始综合录井仪连续测量。  \n",
      "荧光  点  2241  逐包湿照、干照、喷照储层点滴试验，数据齐全，可信。  按设计要求  \n",
      "钻井液  点  138  仪器测量与人工测量相符，准确，可靠。  综合录井液连续测量，泥浆人员手工测量。  \n",
      "碳酸盐含量  点  421  数据齐全，较准确。  按设计及现场要求测量。  \n",
      "泥岩密度  点  70  测量准确，可靠，与电性吻合。  按设计要求测量。  \n",
      "系列对比  点  684  数据较准确，1936.0m后因加荧光处理剂，其值为非真实值。  按设计要求。  \n",
      "地质循环  次  25  据井下情况，及时合理。  按设计及现场要求。  \n",
      "后效监测  点  80  数据准确，可靠。  按设计要求。  \n",
      "VMS  点  220  取样准确，及时，分析数据可靠。  按设计及现场要求。  \n",
      "百格盒  盒  23  数量足，代表性较好。  按设计要求。  \n",
      "测井  次  7  项目齐全，曲线质量合格，气、水层解释与录井基本相符。  按设计及上级要求。  \n",
      "VSP测井  炮  99  数据准确，齐全。  生产炮93炮，试验炮6炮。  \n",
      "===========\n",
      "========lst\n",
      "[['钻时', '点', '2586', '每1米读1点，数据齐全，准确可靠。', '按设计要求综合录井仪连续测量。'], ['岩屑', '包', '2241', '数量足，代表性普遍较好，岩屑与电性符合率较高。井段1962.00～1975.0m因堵漏较差。', '98.00～620.00m每2m捞1次，装2袋。\\n620.00～2600.00m每1m捞1次，装2袋。'], ['岩芯', '米', '94.15', '取芯卡准率100％，总收获率96.2％。', '按设计及上级指示取芯。'], ['气测', '点', '2586', '连续测量，每米读一点，数据齐全、准确。', '井口开始综合录井仪连续测量。'], ['荧光', '点', '2241', '逐包湿照、干照、喷照储层点滴试验，数据齐全，可信。', '按设计要求'], ['钻井液', '点', '138', '仪器测量与人工测量相符，准确，可靠。', '综合录井液连续测量，泥浆人员手工测量。'], ['碳酸盐含量', '点', '421', '数据齐全，较准确。', '按设计及现场要求测量。'], ['泥岩密度', '点', '70', '测量准确，可靠，与电性吻合。', '按设计要求测量。'], ['系列对比', '点', '684', '数据较准确，1936.0m后因加荧光处理剂，其值为非真实值。', '按设计要求。'], ['地质循环', '次', '25', '据井下情况，及时合理。', '按设计及现场要求。'], ['后效监测', '点', '80', '数据准确，可靠。', '按设计要求。'], ['VMS', '点', '220', '取样准确，及时，分析数据可靠。', '按设计及现场要求。'], ['百格盒', '盒', '23', '数量足，代表性较好。', '按设计要求。'], ['测井', '次', '7', '项目齐全，曲线质量合格，气、水层解释与录井基本相符。', '按设计及上级要求。'], ['VSP测井', '炮', '99', '数据准确，齐全。', '生产炮93炮，试验炮6炮。']]\n",
      "['炮', 'VSP测井']\n",
      "['次', '测井']\n",
      "['盒', '百格盒']\n",
      "['点', 'VMS']\n",
      "['米', '岩芯']\n",
      "['包', '岩屑']\n",
      "==============\n"
     ]
    }
   ],
   "source": [
    "from Algorithm.FileManager import FileManager\n",
    "from Algorithm.Doc2Docx import Doc2Docx\n",
    "from Algorithm.DocxManager import DocxManager\n",
    "\n",
    "from Algorithm.Manager import Manager\n",
    "\n",
    "import pandas as pd\n",
    "\n",
    "# print('initialize')\n",
    "manager = Manager()\n",
    "# print('over')\n",
    "\n",
    "\n",
    "\n",
    "\n",
    "#############\n",
    "tmppath = r'D:\\李晨星文件夹\\项目文件\\塔里木程小桂\\data\\abcd.xlsx'\n",
    "data = pd.read_excel(tmppath)\n",
    "\n",
    "allname = data['well'].unique()\n",
    "\n",
    "allname\n",
    "\n",
    "\n",
    "####################\n",
    "\n",
    "idx = 12\n",
    "name = allname[idx]\n",
    "print(name)\n",
    "\n",
    "# name = '轮古'\n",
    "\n",
    "manager.findFile( name )\n",
    "\n",
    "path_idx = 3\n",
    "manager.checkInfo( path_idx)\n",
    "\n",
    "path = manager.returnPath()\n",
    "\n",
    "# manager.getInfoFromText(path)\n",
    "# manager.saveInfo(name)\n",
    "\n",
    "manager.getInfo(path)\n",
    "# manager.saveInfo( name)\n",
    "\n",
    "manager.getLayer(path)\n",
    "# manager.saveLayer( name)"
   ]
  },
  {
   "cell_type": "code",
   "execution_count": null,
   "outputs": [],
   "source": [],
   "metadata": {
    "collapsed": false,
    "pycharm": {
     "name": "#%%\n"
    }
   }
  },
  {
   "cell_type": "code",
   "execution_count": 8,
   "outputs": [
    {
     "name": "stdout",
     "output_type": "stream",
     "text": [
      "===============检查信息===========\n",
      "地层不存在\n"
     ]
    }
   ],
   "source": [
    "# path = r'D:\\李晨星文件夹\\项目文件\\塔里木程小桂\\data\\塔里木单井资料\\顺北2\\顺北2井直井完钻资料（最终20160606）\\顺北2井完钻资料\\'\n",
    "\n",
    "path = r'C:\\Users\\HP\\Desktop\\tmp\\顺北2井地层简表.docx'\n",
    "manager.getLayer(path)"
   ],
   "metadata": {
    "collapsed": false,
    "pycharm": {
     "name": "#%%\n"
    }
   }
  },
  {
   "cell_type": "code",
   "execution_count": null,
   "outputs": [],
   "source": [
    "data =[\n",
    "    2,4,5,11,14,15, 16\n",
    "]"
   ],
   "metadata": {
    "collapsed": false,
    "pycharm": {
     "name": "#%%\n"
    }
   }
  },
  {
   "cell_type": "code",
   "execution_count": 1,
   "outputs": [
    {
     "name": "stdout",
     "output_type": "stream",
     "text": [
      "funca in A\n"
     ]
    }
   ],
   "source": [
    "class person:\n",
    "    def funca(self):\n",
    "        print('funca in person')\n",
    "    def funcb(self):\n",
    "        self.funca()\n",
    "class A(person):\n",
    "    def funca(self):\n",
    "        print('funca in A')\n",
    "a = A()\n",
    "\n",
    "a.funcb()"
   ],
   "metadata": {
    "collapsed": false,
    "pycharm": {
     "name": "#%%\n"
    }
   }
  },
  {
   "cell_type": "code",
   "execution_count": 2,
   "outputs": [],
   "source": [
    "from AlgorithmExtension.DocxManagerExtJieXi import DocxManagerLayerExtJieXi\n"
   ],
   "metadata": {
    "collapsed": false,
    "pycharm": {
     "name": "#%%\n"
    }
   }
  },
  {
   "cell_type": "code",
   "execution_count": 8,
   "outputs": [],
   "source": [
    "docxManager = DocxManagerLayerExtJieXi()"
   ],
   "metadata": {
    "collapsed": false,
    "pycharm": {
     "name": "#%%\n"
    }
   }
  },
  {
   "cell_type": "code",
   "execution_count": 9,
   "outputs": [],
   "source": [
    "path = r'D:\\李晨星文件夹\\项目文件\\塔里木程小桂\\data\\完井报告\\柯中107\\KZ107_地质录井总结报告.docx'\n",
    "\n",
    "docxManager.makeDoc(path)"
   ],
   "metadata": {
    "collapsed": false,
    "pycharm": {
     "name": "#%%\n"
    }
   }
  },
  {
   "cell_type": "code",
   "execution_count": 10,
   "outputs": [
    {
     "name": "stdout",
     "output_type": "stream",
     "text": [
      "==========find layer================\n",
      "基础数据 基础数据\n",
      "333333333333333333333333\n",
      "油气水显示 油气水    显示\n",
      "333333333333333333333333\n",
      "录井队、地质师工作评价 地质监督工作评价\n",
      "333333333333333333333333\n",
      "井深\n",
      "m 井深\n",
      "m\n",
      "333333333333333333333333\n",
      "项目 项目\n",
      "333333333333333333333333\n",
      "\n",
      " 终点井深,m\n",
      "333333333333333333333333\n",
      "井段,m 10.5～41.0\n",
      "333333333333333333333333\n",
      "井段,m 3111.9～3117.3\n",
      "333333333333333333333333\n",
      "井段,m 4205.91～4216.0\n",
      "333333333333333333333333\n",
      "井段,m 5641.0～5661.0\n",
      "333333333333333333333333\n",
      "井段,m 5749.73～5758.7\n",
      "333333333333333333333333\n",
      "钻头直径\n",
      "mm 311.1\n",
      "333333333333333333333333\n",
      "设计 钻井阶段\n",
      "333333333333333333333333\n",
      "序号 序号\n",
      "333333333333333333333333\n",
      "日期\n",
      "a/mon/d 日期\n",
      "a/mon/d\n",
      "333333333333333333333333\n",
      "设计 序号\n",
      "333333333333333333333333\n",
      "界 界\n",
      "333333333333333333333333\n",
      "项目 项目\n",
      "333333333333333333333333\n",
      "KZ106井 井段，m\n",
      "333333333333333333333333\n",
      "KZ106井 井段，m\n",
      "333333333333333333333333\n",
      "项\n",
      "目 项\n",
      "目\n",
      "333333333333333333333333\n",
      "序\n",
      "号 序\n",
      "号\n",
      "333333333333333333333333\n",
      "序号 序号\n",
      "333333333333333333333333\n",
      " 校深，m\n",
      "333333333333333333333333\n",
      " 校深，m\n",
      "333333333333333333333333\n",
      " 校深，m\n",
      "333333333333333333333333\n",
      " 校深，m\n",
      "333333333333333333333333\n",
      " 校深，m\n",
      "333333333333333333333333\n",
      " 校深，m\n",
      "333333333333333333333333\n",
      " 校深，m\n",
      "333333333333333333333333\n",
      " 校深，m\n",
      "333333333333333333333333\n",
      " 校深，m\n",
      "333333333333333333333333\n",
      " 校深，m\n",
      "333333333333333333333333\n",
      " 校深，m\n",
      "333333333333333333333333\n",
      " 校深，m\n",
      "333333333333333333333333\n",
      " 校深，m\n",
      "333333333333333333333333\n",
      " 校深，m\n",
      "333333333333333333333333\n",
      "物性 物性\n",
      "333333333333333333333333\n",
      "层位 层位\n",
      "333333333333333333333333\n",
      "层位 层位\n",
      "333333333333333333333333\n",
      "层位 卡拉塔尔组顶面\n",
      "333333333333333333333333\n",
      "界 界\n",
      "333333333333333333333333\n",
      "井号 井\n",
      "位\n",
      "设\n",
      "计\n",
      "333333333333333333333333\n",
      "项目 钻时\n",
      "333333333333333333333333\n",
      "序号 序号\n",
      "333333333333333333333333\n",
      "序号 序号\n",
      "333333333333333333333333\n",
      "序号 序号\n",
      "333333333333333333333333\n",
      "序号 序号\n",
      "333333333333333333333333\n",
      "序号 序号\n",
      "333333333333333333333333\n",
      "层位 层位\n",
      "333333333333333333333333\n",
      "日期\n",
      "a/mon/d 日期\n",
      "a/mon/d\n",
      "333333333333333333333333\n",
      "日期\n",
      "a/mon/d 日期\n",
      "a/mon/d\n",
      "333333333333333333333333\n",
      "层\n",
      "位 层\n",
      "位\n",
      "333333333333333333333333\n",
      "层\n",
      "位 层\n",
      "位\n",
      "333333333333333333333333\n",
      "层\n",
      "位 层\n",
      "位\n",
      "333333333333333333333333\n",
      "层位 N1x\n",
      "333333333333333333333333\n",
      "层位 N1x\n",
      "333333333333333333333333\n",
      "层位 N1x\n",
      "333333333333333333333333\n",
      "层\n",
      "位 层\n",
      "位\n",
      "333333333333333333333333\n",
      "========lst\n",
      "[]\n"
     ]
    },
    {
     "ename": "IndexError",
     "evalue": "list index out of range",
     "output_type": "error",
     "traceback": [
      "\u001B[1;31m---------------------------------------------------------------------------\u001B[0m",
      "\u001B[1;31mIndexError\u001B[0m                                Traceback (most recent call last)",
      "Input \u001B[1;32mIn [10]\u001B[0m, in \u001B[0;36m<cell line: 1>\u001B[1;34m()\u001B[0m\n\u001B[1;32m----> 1\u001B[0m \u001B[43mdocxManager\u001B[49m\u001B[38;5;241;43m.\u001B[39;49m\u001B[43mgetLayerByTableJieXi\u001B[49m\u001B[43m(\u001B[49m\u001B[43m)\u001B[49m\n",
      "File \u001B[1;32m~\\PycharmProjects\\FileManager\\AlgorithmExtension\\DocxManagerExtJieXi.py:127\u001B[0m, in \u001B[0;36mDocxManagerLayerExtJieXi.getLayerByTableJieXi\u001B[1;34m(self)\u001B[0m\n\u001B[0;32m    125\u001B[0m     \u001B[38;5;28;01mreturn\u001B[39;00m\n\u001B[0;32m    126\u001B[0m tables \u001B[38;5;241m=\u001B[39m \u001B[38;5;28mself\u001B[39m\u001B[38;5;241m.\u001B[39m_getLayerLstFromTable(\u001B[38;5;28mself\u001B[39m\u001B[38;5;241m.\u001B[39mtables)\n\u001B[1;32m--> 127\u001B[0m lst \u001B[38;5;241m=\u001B[39m \u001B[38;5;28;43mself\u001B[39;49m\u001B[38;5;241;43m.\u001B[39;49m\u001B[43m_getLstXiDiShenFromLst\u001B[49m\u001B[43m(\u001B[49m\u001B[43mtables\u001B[49m\u001B[43m)\u001B[49m\n\u001B[0;32m    128\u001B[0m \u001B[38;5;28mself\u001B[39m\u001B[38;5;241m.\u001B[39mlayer \u001B[38;5;241m=\u001B[39m \u001B[38;5;28mself\u001B[39m\u001B[38;5;241m.\u001B[39m_dropDuplicatesInLst(lst)\n",
      "File \u001B[1;32m~\\PycharmProjects\\FileManager\\AlgorithmExtension\\DocxManagerExtJieXi.py:85\u001B[0m, in \u001B[0;36mDocxManagerLayerExtJieXi._getLstXiDiShenFromLst\u001B[1;34m(self, lst)\u001B[0m\n\u001B[0;32m     82\u001B[0m \u001B[38;5;28mprint\u001B[39m(\u001B[38;5;124m'\u001B[39m\u001B[38;5;124m========lst\u001B[39m\u001B[38;5;124m'\u001B[39m)\n\u001B[0;32m     83\u001B[0m \u001B[38;5;28mprint\u001B[39m(lst)\n\u001B[1;32m---> 85\u001B[0m idx \u001B[38;5;241m=\u001B[39m \u001B[43mgetidx\u001B[49m\u001B[43m(\u001B[49m\u001B[43mlst\u001B[49m\u001B[43m,\u001B[49m\u001B[43m \u001B[49m\u001B[43mgetDeepth\u001B[49m\u001B[43m)\u001B[49m\n\u001B[0;32m     86\u001B[0m idxXi \u001B[38;5;241m=\u001B[39m getidx(lst, getXi)\n\u001B[0;32m     87\u001B[0m \u001B[38;5;28mprint\u001B[39m(\u001B[38;5;124m'\u001B[39m\u001B[38;5;124midx, idxXi\u001B[39m\u001B[38;5;124m'\u001B[39m, idx, idxXi)\n",
      "File \u001B[1;32m~\\PycharmProjects\\FileManager\\AlgorithmExtension\\DocxManagerExtJieXi.py:72\u001B[0m, in \u001B[0;36mDocxManagerLayerExtJieXi._getLstXiDiShenFromLst.<locals>.getidx\u001B[1;34m(lst, isTrue)\u001B[0m\n\u001B[0;32m     71\u001B[0m \u001B[38;5;28;01mdef\u001B[39;00m \u001B[38;5;21mgetidx\u001B[39m(lst, isTrue):\n\u001B[1;32m---> 72\u001B[0m     \u001B[38;5;28mprint\u001B[39m(\u001B[43mlst\u001B[49m\u001B[43m[\u001B[49m\u001B[38;5;241;43m0\u001B[39;49m\u001B[43m]\u001B[49m)\n\u001B[0;32m     73\u001B[0m     idx \u001B[38;5;241m=\u001B[39m \u001B[38;5;241m0\u001B[39m\n\u001B[0;32m     74\u001B[0m     \u001B[38;5;28;01mfor\u001B[39;00m i \u001B[38;5;129;01min\u001B[39;00m \u001B[38;5;28mrange\u001B[39m(\u001B[38;5;28mlen\u001B[39m(lst[\u001B[38;5;241m0\u001B[39m])):\n",
      "\u001B[1;31mIndexError\u001B[0m: list index out of range"
     ]
    }
   ],
   "source": [
    "docxManager.getLayerByTableJieXi()"
   ],
   "metadata": {
    "collapsed": false,
    "pycharm": {
     "name": "#%%\n"
    }
   }
  },
  {
   "cell_type": "code",
   "execution_count": 2,
   "outputs": [],
   "source": [
    "import pandas as pd\n",
    "\n",
    "tmppath = r'D:\\李晨星文件夹\\项目文件\\塔里木程小桂\\data\\abcd.xlsx'\n",
    "data = pd.read_excel(tmppath)\n",
    "\n",
    "allname = data['well'].unique()"
   ],
   "metadata": {
    "collapsed": false,
    "pycharm": {
     "name": "#%%\n"
    }
   }
  },
  {
   "cell_type": "code",
   "execution_count": 8,
   "outputs": [
    {
     "name": "stdout",
     "output_type": "stream",
     "text": [
      "东河20\n",
      "东河4\n",
      "东河6\n",
      "中12\n",
      "中17\n",
      "中古111\n",
      "中古2\n",
      "中古21\n",
      "中古29\n",
      "中古40\n",
      "中古582\n",
      "中探1\n",
      "中深1\n",
      "乌恰1\n",
      "于奇1\n",
      "于奇3\n",
      "克拉3\n",
      "克深10\n",
      "克深801\n",
      "克深9\n",
      "吐东2\n",
      "哈得32\n",
      "塔中1\n",
      "塔中10\n",
      "塔中101\n",
      "塔中103\n",
      "塔中11\n",
      "塔中117\n",
      "塔中169\n",
      "塔中4\n",
      "塔中40\n",
      "塔中401\n",
      "塔中402\n",
      "塔中408\n",
      "塔中422\n",
      "塔中6\n",
      "塔中62\n",
      "塔中722\n",
      "塔中82\n",
      "塔中83\n",
      "塘北2\n",
      "大北1\n",
      "富源203\n",
      "新垦4\n",
      "新垦8003\n",
      "新垦901\n",
      "新垦902\n",
      "星火1\n",
      "星火2\n",
      "星火3\n",
      "柯东1C\n",
      "柯中104\n",
      "柯中106\n",
      "柯中107\n",
      "棋北3\n",
      "热普301\n",
      "热普8\n",
      "玛4\n",
      "玛401\n",
      "玛5\n",
      "神木2\n",
      "群5\n",
      "群7\n",
      "群古1\n",
      "群古2\n",
      "跃满25\n",
      "跃满802\n",
      "跃满9\n",
      "轮南26\n",
      "轮南422\n",
      "轮古100\n",
      "轮古17\n",
      "轮古172\n",
      "轮古18\n",
      "轮古208\n",
      "轮古3\n",
      "轮古405\n",
      "轮古801\n",
      "轮古903\n",
      "轮探1\n",
      "轮西2\n",
      "迪北101\n",
      "阿克1\n",
      "阿克4\n",
      "阿瓦3\n",
      "阿瓦5\n",
      "顺7\n",
      "顺北1-1\n",
      "顺北1-2\n",
      "顺北1-6\n",
      "顺北1\n",
      "顺北2\n",
      "顺北5-3\n",
      "顺北5\n",
      "顺北7\n",
      "顺北蓬1\n",
      "鹿场1\n"
     ]
    }
   ],
   "source": [
    "infopath = r'D:\\李晨星文件夹\\项目文件\\塔里木程小桂\\info'\n",
    "\n",
    "import os\n",
    "\n",
    "lst = []\n",
    "for root, dirs, files in os.walk(infopath):\n",
    "    for i in files:\n",
    "        print(i.split('.')[0])\n",
    "\n",
    "        lst.append(i.split('.')[0])"
   ],
   "metadata": {
    "collapsed": false,
    "pycharm": {
     "name": "#%%\n"
    }
   }
  },
  {
   "cell_type": "code",
   "execution_count": 12,
   "outputs": [],
   "source": [
    "allname = allname.tolist()"
   ],
   "metadata": {
    "collapsed": false,
    "pycharm": {
     "name": "#%%\n"
    }
   }
  },
  {
   "cell_type": "code",
   "execution_count": 14,
   "outputs": [],
   "source": [
    "allname = set (allname)\n",
    "lst = set(lst)\n"
   ],
   "metadata": {
    "collapsed": false,
    "pycharm": {
     "name": "#%%\n"
    }
   }
  },
  {
   "cell_type": "code",
   "execution_count": 38,
   "outputs": [
    {
     "name": "stdout",
     "output_type": "stream",
     "text": [
      "['KL203', 'KL204', 'KS201', 'MA2', 'MA8', '东河14', '中古151', '中古164', '中古22', '中古26', '中古265', '中古51', '于奇4', '克深102', '克深106', '克深3-1', '克深505', '克深605', '克深802', '克深904', '博孜3', '哈15', '塔中129', '塔中164', '塔中166', '塔中167', '塔中242', '塔中406', '塔中472', '塔中721', '大北 1101', '果勒1', '果勒3', '柯103', '柯104', '柯218', '柯333', '柯401', '柯8', '柯8001', '柯西3', '沙110', '沙112-2', '热普11', '热普14', '热普3', '玛东3', '跃满2', '跃满4', '跃满7', '轮南104', '轮南206', '轮南3', '轮南30', '轮南31', '轮南48', '轮南634', '轮南8', '轮古352', '轮古45', '顺北1-10', '顺北1-12', '顺北1-14', '顺北1-15', '顺北1-3', '顺北1-4', '顺北1-5', '顺北1-7', '顺北1-8', '顺北1-9', '顺北5-2', '顺北5-4', '顺北5-5', '顺北5-6', '顺北501', '顺北51', '顺北53', '顺北评1', '顺北评3', '顺北鹰1', '顺南蓬1']\n"
     ]
    }
   ],
   "source": [
    "\n",
    "with open(r'Data\\logname.txt', 'w') as f:\n",
    "    tmplst = list( allname-lst )\n",
    "    tmplst.sort()\n",
    "    print(tmplst)\n",
    "    for i in tmplst:\n",
    "        f.write(i)\n",
    "        f.write('\\n')\n",
    "# allname - lst"
   ],
   "metadata": {
    "collapsed": false,
    "pycharm": {
     "name": "#%%\n"
    }
   }
  },
  {
   "cell_type": "code",
   "execution_count": 36,
   "outputs": [
    {
     "data": {
      "text/plain": "['KL203',\n 'KL204',\n 'KS201',\n 'MA2',\n 'MA8',\n '东河14',\n '中古151',\n '中古164',\n '中古22',\n '中古26',\n '中古265',\n '中古51',\n '于奇4',\n '克深102',\n '克深106',\n '克深3-1',\n '克深505',\n '克深605',\n '克深802',\n '克深904',\n '博孜3',\n '哈15',\n '塔中129',\n '塔中164',\n '塔中166',\n '塔中167',\n '塔中242',\n '塔中406',\n '塔中472',\n '塔中721',\n '大北 1101',\n '果勒1',\n '果勒3',\n '柯103',\n '柯104',\n '柯218',\n '柯333',\n '柯401',\n '柯8',\n '柯8001',\n '柯西3',\n '沙110',\n '沙112-2',\n '热普11',\n '热普14',\n '热普3',\n '玛东3',\n '跃满2',\n '跃满4',\n '跃满7',\n '轮南104',\n '轮南206',\n '轮南3',\n '轮南30',\n '轮南31',\n '轮南48',\n '轮南634',\n '轮南8',\n '轮古352',\n '轮古45',\n '顺北1-10',\n '顺北1-12',\n '顺北1-14',\n '顺北1-15',\n '顺北1-3',\n '顺北1-4',\n '顺北1-5',\n '顺北1-7',\n '顺北1-8',\n '顺北1-9',\n '顺北5-2',\n '顺北5-4',\n '顺北5-5',\n '顺北5-6',\n '顺北501',\n '顺北51',\n '顺北53',\n '顺北评1',\n '顺北评3',\n '顺北鹰1',\n '顺南蓬1']"
     },
     "execution_count": 36,
     "metadata": {},
     "output_type": "execute_result"
    }
   ],
   "source": [
    "tmplst = list( allname-lst )\n",
    "tmplst.sort()\n",
    "tmplst"
   ],
   "metadata": {
    "collapsed": false,
    "pycharm": {
     "name": "#%%\n"
    }
   }
  }
 ],
 "metadata": {
  "kernelspec": {
   "display_name": "Python 3",
   "language": "python",
   "name": "python3"
  },
  "language_info": {
   "codemirror_mode": {
    "name": "ipython",
    "version": 2
   },
   "file_extension": ".py",
   "mimetype": "text/x-python",
   "name": "python",
   "nbconvert_exporter": "python",
   "pygments_lexer": "ipython2",
   "version": "2.7.6"
  }
 },
 "nbformat": 4,
 "nbformat_minor": 0
}